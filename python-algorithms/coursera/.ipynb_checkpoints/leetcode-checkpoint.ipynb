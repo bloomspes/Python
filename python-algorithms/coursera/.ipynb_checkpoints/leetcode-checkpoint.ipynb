{
 "cells": [
  {
   "cell_type": "code",
   "execution_count": 1,
   "metadata": {},
   "outputs": [],
   "source": [
    "class Solution(object):\n",
    "    def getImportance(self, employees, id):\n",
    "        def calcImportance(employees,id):\n",
    "            for i in employees:\n",
    "                if(i.id==id):\n",
    "                    self.total=self.total+i.importance\n",
    "                    if(i.subordinates!=[]):\n",
    "                        for j in i.subordinates:\n",
    "                            calcImportance(employees,j)\n",
    "        self.total=0\n",
    "        calcImportance(employees,id)\n",
    "        return self.total"
   ]
  },
  {
   "cell_type": "code",
   "execution_count": null,
   "metadata": {},
   "outputs": [],
   "source": []
  }
 ],
 "metadata": {
  "kernelspec": {
   "display_name": "Python 3",
   "language": "python",
   "name": "python3"
  },
  "language_info": {
   "codemirror_mode": {
    "name": "ipython",
    "version": 3
   },
   "file_extension": ".py",
   "mimetype": "text/x-python",
   "name": "python",
   "nbconvert_exporter": "python",
   "pygments_lexer": "ipython3",
   "version": "3.6.5"
  }
 },
 "nbformat": 4,
 "nbformat_minor": 2
}
